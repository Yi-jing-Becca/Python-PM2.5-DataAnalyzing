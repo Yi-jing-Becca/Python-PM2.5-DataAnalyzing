{
 "cells": [
  {
   "cell_type": "code",
   "execution_count": 56,
   "metadata": {},
   "outputs": [],
   "source": [
    "import pandas as pd\n",
    "df=pd.read_excel('C:/Users/Yanwei/Desktop/AQI.xlsx')"
   ]
  },
  {
   "cell_type": "code",
   "execution_count": 58,
   "metadata": {},
   "outputs": [
    {
     "data": {
      "text/html": [
       "<div>\n",
       "<style scoped>\n",
       "    .dataframe tbody tr th:only-of-type {\n",
       "        vertical-align: middle;\n",
       "    }\n",
       "\n",
       "    .dataframe tbody tr th {\n",
       "        vertical-align: top;\n",
       "    }\n",
       "\n",
       "    .dataframe thead th {\n",
       "        text-align: right;\n",
       "    }\n",
       "</style>\n",
       "<table border=\"1\" class=\"dataframe\">\n",
       "  <thead>\n",
       "    <tr style=\"text-align: right;\">\n",
       "      <th></th>\n",
       "      <th>AQI</th>\n",
       "      <th>SO2</th>\n",
       "      <th>CO</th>\n",
       "      <th>CO_8hr</th>\n",
       "      <th>O3</th>\n",
       "      <th>O3_8hr</th>\n",
       "      <th>PM10</th>\n",
       "      <th>PM2.5</th>\n",
       "      <th>NO2</th>\n",
       "      <th>NOx</th>\n",
       "      <th>NO</th>\n",
       "      <th>WindSpeed</th>\n",
       "      <th>WindDirec</th>\n",
       "      <th>PM2.5_AVG</th>\n",
       "      <th>PM10_AVG</th>\n",
       "      <th>SO2_AVG</th>\n",
       "      <th>Longitude</th>\n",
       "      <th>Latitude</th>\n",
       "    </tr>\n",
       "  </thead>\n",
       "  <tbody>\n",
       "    <tr>\n",
       "      <th>count</th>\n",
       "      <td>18.000000</td>\n",
       "      <td>18.000000</td>\n",
       "      <td>18.000000</td>\n",
       "      <td>18.000000</td>\n",
       "      <td>18.000000</td>\n",
       "      <td>18.000000</td>\n",
       "      <td>18.000000</td>\n",
       "      <td>18.000000</td>\n",
       "      <td>18.000000</td>\n",
       "      <td>18.000000</td>\n",
       "      <td>18.000000</td>\n",
       "      <td>18.000000</td>\n",
       "      <td>18.000000</td>\n",
       "      <td>18.000000</td>\n",
       "      <td>18.000000</td>\n",
       "      <td>18.000000</td>\n",
       "      <td>18.000000</td>\n",
       "      <td>18.000000</td>\n",
       "    </tr>\n",
       "    <tr>\n",
       "      <th>mean</th>\n",
       "      <td>74.944444</td>\n",
       "      <td>3.477778</td>\n",
       "      <td>0.544444</td>\n",
       "      <td>0.500000</td>\n",
       "      <td>7.200000</td>\n",
       "      <td>10.500000</td>\n",
       "      <td>54.111111</td>\n",
       "      <td>25.055556</td>\n",
       "      <td>24.333333</td>\n",
       "      <td>30.222222</td>\n",
       "      <td>5.777778</td>\n",
       "      <td>1.605556</td>\n",
       "      <td>137.411111</td>\n",
       "      <td>25.333333</td>\n",
       "      <td>60.722222</td>\n",
       "      <td>3.388889</td>\n",
       "      <td>120.350783</td>\n",
       "      <td>22.748528</td>\n",
       "    </tr>\n",
       "    <tr>\n",
       "      <th>std</th>\n",
       "      <td>17.645103</td>\n",
       "      <td>1.360171</td>\n",
       "      <td>0.116731</td>\n",
       "      <td>0.102899</td>\n",
       "      <td>4.174009</td>\n",
       "      <td>4.792764</td>\n",
       "      <td>9.260218</td>\n",
       "      <td>8.192337</td>\n",
       "      <td>6.902685</td>\n",
       "      <td>9.896854</td>\n",
       "      <td>3.652969</td>\n",
       "      <td>0.676907</td>\n",
       "      <td>137.792367</td>\n",
       "      <td>7.062744</td>\n",
       "      <td>12.280092</td>\n",
       "      <td>0.916444</td>\n",
       "      <td>0.097653</td>\n",
       "      <td>0.227725</td>\n",
       "    </tr>\n",
       "    <tr>\n",
       "      <th>min</th>\n",
       "      <td>40.000000</td>\n",
       "      <td>1.600000</td>\n",
       "      <td>0.350000</td>\n",
       "      <td>0.300000</td>\n",
       "      <td>3.000000</td>\n",
       "      <td>2.000000</td>\n",
       "      <td>37.000000</td>\n",
       "      <td>3.000000</td>\n",
       "      <td>12.000000</td>\n",
       "      <td>14.000000</td>\n",
       "      <td>1.000000</td>\n",
       "      <td>0.500000</td>\n",
       "      <td>5.400000</td>\n",
       "      <td>11.000000</td>\n",
       "      <td>41.000000</td>\n",
       "      <td>1.000000</td>\n",
       "      <td>120.202617</td>\n",
       "      <td>22.479500</td>\n",
       "    </tr>\n",
       "    <tr>\n",
       "      <th>25%</th>\n",
       "      <td>66.500000</td>\n",
       "      <td>2.475000</td>\n",
       "      <td>0.480000</td>\n",
       "      <td>0.425000</td>\n",
       "      <td>5.250000</td>\n",
       "      <td>8.000000</td>\n",
       "      <td>46.750000</td>\n",
       "      <td>20.500000</td>\n",
       "      <td>18.500000</td>\n",
       "      <td>21.250000</td>\n",
       "      <td>2.250000</td>\n",
       "      <td>1.150000</td>\n",
       "      <td>27.500000</td>\n",
       "      <td>22.000000</td>\n",
       "      <td>56.250000</td>\n",
       "      <td>3.000000</td>\n",
       "      <td>120.299279</td>\n",
       "      <td>22.606217</td>\n",
       "    </tr>\n",
       "    <tr>\n",
       "      <th>50%</th>\n",
       "      <td>75.500000</td>\n",
       "      <td>3.300000</td>\n",
       "      <td>0.560000</td>\n",
       "      <td>0.500000</td>\n",
       "      <td>6.050000</td>\n",
       "      <td>10.000000</td>\n",
       "      <td>55.000000</td>\n",
       "      <td>27.500000</td>\n",
       "      <td>26.000000</td>\n",
       "      <td>32.000000</td>\n",
       "      <td>5.950000</td>\n",
       "      <td>1.500000</td>\n",
       "      <td>48.000000</td>\n",
       "      <td>25.500000</td>\n",
       "      <td>62.500000</td>\n",
       "      <td>3.000000</td>\n",
       "      <td>120.322769</td>\n",
       "      <td>22.673971</td>\n",
       "    </tr>\n",
       "    <tr>\n",
       "      <th>75%</th>\n",
       "      <td>87.750000</td>\n",
       "      <td>4.150000</td>\n",
       "      <td>0.622500</td>\n",
       "      <td>0.600000</td>\n",
       "      <td>8.050000</td>\n",
       "      <td>11.750000</td>\n",
       "      <td>59.500000</td>\n",
       "      <td>30.750000</td>\n",
       "      <td>28.750000</td>\n",
       "      <td>36.250000</td>\n",
       "      <td>7.825000</td>\n",
       "      <td>2.000000</td>\n",
       "      <td>292.750000</td>\n",
       "      <td>30.750000</td>\n",
       "      <td>67.750000</td>\n",
       "      <td>4.000000</td>\n",
       "      <td>120.398333</td>\n",
       "      <td>22.852064</td>\n",
       "    </tr>\n",
       "    <tr>\n",
       "      <th>max</th>\n",
       "      <td>100.000000</td>\n",
       "      <td>6.400000</td>\n",
       "      <td>0.770000</td>\n",
       "      <td>0.600000</td>\n",
       "      <td>22.000000</td>\n",
       "      <td>21.000000</td>\n",
       "      <td>69.000000</td>\n",
       "      <td>36.000000</td>\n",
       "      <td>36.000000</td>\n",
       "      <td>47.000000</td>\n",
       "      <td>12.000000</td>\n",
       "      <td>3.000000</td>\n",
       "      <td>354.000000</td>\n",
       "      <td>35.000000</td>\n",
       "      <td>87.000000</td>\n",
       "      <td>5.000000</td>\n",
       "      <td>120.561175</td>\n",
       "      <td>23.305633</td>\n",
       "    </tr>\n",
       "  </tbody>\n",
       "</table>\n",
       "</div>"
      ],
      "text/plain": [
       "              AQI        SO2         CO     CO_8hr         O3     O3_8hr  \\\n",
       "count   18.000000  18.000000  18.000000  18.000000  18.000000  18.000000   \n",
       "mean    74.944444   3.477778   0.544444   0.500000   7.200000  10.500000   \n",
       "std     17.645103   1.360171   0.116731   0.102899   4.174009   4.792764   \n",
       "min     40.000000   1.600000   0.350000   0.300000   3.000000   2.000000   \n",
       "25%     66.500000   2.475000   0.480000   0.425000   5.250000   8.000000   \n",
       "50%     75.500000   3.300000   0.560000   0.500000   6.050000  10.000000   \n",
       "75%     87.750000   4.150000   0.622500   0.600000   8.050000  11.750000   \n",
       "max    100.000000   6.400000   0.770000   0.600000  22.000000  21.000000   \n",
       "\n",
       "            PM10      PM2.5        NO2        NOx         NO  WindSpeed  \\\n",
       "count  18.000000  18.000000  18.000000  18.000000  18.000000  18.000000   \n",
       "mean   54.111111  25.055556  24.333333  30.222222   5.777778   1.605556   \n",
       "std     9.260218   8.192337   6.902685   9.896854   3.652969   0.676907   \n",
       "min    37.000000   3.000000  12.000000  14.000000   1.000000   0.500000   \n",
       "25%    46.750000  20.500000  18.500000  21.250000   2.250000   1.150000   \n",
       "50%    55.000000  27.500000  26.000000  32.000000   5.950000   1.500000   \n",
       "75%    59.500000  30.750000  28.750000  36.250000   7.825000   2.000000   \n",
       "max    69.000000  36.000000  36.000000  47.000000  12.000000   3.000000   \n",
       "\n",
       "        WindDirec  PM2.5_AVG   PM10_AVG    SO2_AVG   Longitude   Latitude  \n",
       "count   18.000000  18.000000  18.000000  18.000000   18.000000  18.000000  \n",
       "mean   137.411111  25.333333  60.722222   3.388889  120.350783  22.748528  \n",
       "std    137.792367   7.062744  12.280092   0.916444    0.097653   0.227725  \n",
       "min      5.400000  11.000000  41.000000   1.000000  120.202617  22.479500  \n",
       "25%     27.500000  22.000000  56.250000   3.000000  120.299279  22.606217  \n",
       "50%     48.000000  25.500000  62.500000   3.000000  120.322769  22.673971  \n",
       "75%    292.750000  30.750000  67.750000   4.000000  120.398333  22.852064  \n",
       "max    354.000000  35.000000  87.000000   5.000000  120.561175  23.305633  "
      ]
     },
     "execution_count": 58,
     "metadata": {},
     "output_type": "execute_result"
    }
   ],
   "source": [
    "df.describe()"
   ]
  },
  {
   "cell_type": "code",
   "execution_count": 59,
   "metadata": {},
   "outputs": [
    {
     "data": {
      "text/plain": [
       "0     31\n",
       "1     30\n",
       "2     31\n",
       "3     28\n",
       "4     23\n",
       "5     27\n",
       "6     17\n",
       "7     30\n",
       "8     36\n",
       "9     28\n",
       "10    33\n",
       "11    22\n",
       "12    34\n",
       "13    17\n",
       "14    16\n",
       "15    20\n",
       "16     3\n",
       "17    25\n",
       "Name: PM2.5, dtype: int64"
      ]
     },
     "execution_count": 59,
     "metadata": {},
     "output_type": "execute_result"
    }
   ],
   "source": [
    "df['PM2.5']"
   ]
  },
  {
   "cell_type": "code",
   "execution_count": 75,
   "metadata": {},
   "outputs": [
    {
     "data": {
      "image/png": "[encoded data removed]",
      "text/plain": [
       "<Figure size 432x288 with 2 Axes>"
      ]
     },
     "metadata": {
      "needs_background": "light"
     },
     "output_type": "display_data"
    }
   ],
   "source": [
    "from pylab import mpl\n",
    "mpl.rcParams['font.sans-serif'] = ['Microsoft YaHei']  \n",
    "# 指定默認字形：解決plot不能顯示中文問題\n",
    "mpl.rcParams['axes.unicode_minus'] = False \n",
    "pic=df.plot(kind = 'scatter', x = 'PM2.5', y = 'AQI',c='WindSpeed',title = 'PM2.5指數與AQI與風速之關係')"
   ]
  },
  {
   "cell_type": "code",
   "execution_count": 63,
   "metadata": {},
   "outputs": [
    {
     "name": "stdout",
     "output_type": "stream",
     "text": [
      "AxesSubplot(0.125,0.11;0.775x0.77)\n"
     ]
    }
   ],
   "source": [
    "print(pic)"
   ]
  },
  {
   "cell_type": "code",
   "execution_count": 79,
   "metadata": {},
   "outputs": [
    {
     "name": "stdout",
     "output_type": "stream",
     "text": [
      "AxesSubplot(0.125,0.125;0.775x0.755)\n"
     ]
    },
    {
     "data": {
      "image/png": "[encoded data removed]",
      "text/plain": [
       "<Figure size 432x288 with 1 Axes>"
      ]
     },
     "metadata": {
      "needs_background": "light"
     },
     "output_type": "display_data"
    }
   ],
   "source": [
    "from pylab import mpl\n",
    "mpl.rcParams['font.sans-serif'] = ['Microsoft YaHei']  \n",
    "# 指定默認字形：解決plot不能顯示中文問題\n",
    "mpl.rcParams['axes.unicode_minus'] = False \n",
    "pic1=df.plot(kind = 'scatter', x = 'WindSpeed', y = 'AQI',title = '風速與AQI與之關係')\n",
    "print(pic1)"
   ]
  },
  {
   "cell_type": "code",
   "execution_count": null,
   "metadata": {},
   "outputs": [],
   "source": []
  }
 ],
 "metadata": {
  "kernelspec": {
   "display_name": "Python 3",
   "language": "python",
   "name": "python3"
  },
  "language_info": {
   "codemirror_mode": {
    "name": "ipython",
    "version": 3
   },
   "file_extension": ".py",
   "mimetype": "text/x-python",
   "name": "python",
   "nbconvert_exporter": "python",
   "pygments_lexer": "ipython3",
   "version": "3.6.6"
  }
 },
 "nbformat": 4,
 "nbformat_minor": 2
}
